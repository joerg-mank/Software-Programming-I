{
 "cells": [
  {
   "cell_type": "markdown",
   "id": "0a593057-ac31-47e7-b0c0-179a322365c5",
   "metadata": {},
   "source": [
    "# Module 1: Basic Concepts:\n",
    "In this lesson we will learn some basic concept, to enable us to write some small code. The concepts we are going to learn are \n",
    "1. Variables\n",
    "2. Data Types (Part I)\n",
    "3. Operations\n",
    "4. Functions\n",
    "5. Control Structures\n",
    "7. Input/Output"
   ]
  },
  {
   "cell_type": "markdown",
   "id": "a13fecff-b249-410c-8509-826bef963b3e",
   "metadata": {},
   "source": [
    "## Variables\n",
    "A variable is a container that holds a value. Think of it as a labeled box where you can store different types of information (like a number or some text). You can assign a value to a variable. A variable has therefore following key characteristics:\n",
    "1. Name - a unique name that we use to store and retrieve information\n",
    "2. Value - the information we want to store\n",
    "3. Type - the kind of information, e.g. a number or text\n",
    "\n",
    "To store the number 42 in a variable called answer, we write:\\\n",
    "`answer = 42`\\\n",
    "Let us now store some text \"What is the question?\" in a variable called question:\\\n",
    "`question = \"What is the question?\"`\n",
    "\n",
    "In Python, variable names must follow specific rules: they must begin with a letter (a-z, A-Z) or an underscore (_), can include numbers (0-9), and are case-sensitive. Good variable names are descriptive and convey the purpose of the variable, such as total_price for a sum or user_name for a string representing a username. Using clear and meaningful names helps improve code clarity, making it easier for developers to understand and collaborate on projects. Additionally, adhering to naming conventions, such as using lowercase letters with underscores for multi-word variable names, enhances code consistency and readability."
   ]
  },
  {
   "cell_type": "code",
   "execution_count": 42,
   "id": "c8bb026e-3503-497f-9a19-b3a9de52cff1",
   "metadata": {},
   "outputs": [],
   "source": [
    "# Task: Assign your age to a variable named age\n",
    "# Insert your code below:\n"
   ]
  },
  {
   "cell_type": "markdown",
   "id": "1b423a46-5f75-4077-a863-62ac43c00c6a",
   "metadata": {},
   "source": [
    "## Data Types (fundamental inbuild data types)\n",
    "In programming, a data type defines the kind of value a variable can hold. In the task before we identified the data type of `answer` as an integer and of `question` as text. Common data types are:\n",
    "1. Integer - e.g. 0 \n",
    "2. Float - e.g 1.2\n",
    "3. String - e.g. \"I am some text\"\n",
    "4. Bool - e.g. True\n",
    "\n",
    "Each data type has its own unique characteristics, set of rules and behaviors. Adding two integers will result in a different behavior then adding two strings. \n",
    "In Python, data types are mostly assigned implicitly - this is not the case for other programming languages -; the interpreter determines the data type based on the assigned value:\\\n",
    "`var_int = 4` \\\n",
    "`var_float = 4.0` \\\n",
    "`var_string = \"Hello\"` \\\n",
    "`var_bool = True` \\\n",
    "\n",
    "In Python, each data type has inherent limits that dictate how they can be used and the range of values they can represent. Integers are unbounded in Python 3, meaning they can grow as large as the available memory allows, which is advantageous for applications requiring high precision. However, the performance may decrease with extremely large integers. Floats, representing real numbers, follow the IEEE 754 double-precision standard, which provides a range of approximately ±1.8 × 10²⁴⁰ to ±2.2 × 10⁻³²⁴, but they can introduce rounding errors due to their finite precision. A double-precision float typically has a precision of about 15 to 17 significant decimal digits. Strings are sequences of characters and can theoretically be of any length, limited only by memory, but performance may suffer with very large strings. Lastly, booleans can only hold one of two values: True or False, making them limited in terms of the information they can represent. Understanding these limits is crucial for effective data handling and for avoiding errors in applications that require specific numerical operations or manipulations.\n",
    "\n",
    "Data types play a crucial role in programming, as they:\\\n",
    "Prevent Type Errors: By specifying the correct data type for a variable or function, you avoid errors caused by incorrect data. \\\n",
    "Improve Code Readability: Using meaningful data types makes your code more readable and self-explanatory. \\\n",
    "Enable Efficient Computation: Data types determine how values are stored and processed in memory, affecting performance. \\\n",
    "\n",
    "There are more data types to which we will come back after introducing the concept for operations and functions.\n"
   ]
  },
  {
   "cell_type": "code",
   "execution_count": 47,
   "id": "17285a0d-96ec-448b-8607-a07926994f63",
   "metadata": {},
   "outputs": [],
   "source": [
    "# Task: Assign your age as a string to a variable named age_str\n",
    "# Insert your code below:\n"
   ]
  },
  {
   "cell_type": "markdown",
   "id": "08d57c2a-4e4c-498d-a929-25036bae8128",
   "metadata": {},
   "source": [
    "## Operations\n",
    "Operations are actions that you can perform on values and variables. These actions encompass basic arithmetic, comparisons, and logical operations. \n",
    "1. Arithmetic Operations\n",
    "    - Addition `+`\n",
    "    - Subtraction `-`\n",
    "    - Multiplication `*`\n",
    "    - Division `/`\n",
    "    - Floor Division `//`\n",
    "    - Modulus `%`\n",
    "    - Exponentation `**` \n",
    "\n",
    "To add two values 4, 2 and save the result into a variable named result_add you would write:\\\n",
    "`result_add = 4 + 2` \\\n",
    "The result of an arithmetic operation is of the same data type as the two values. \n",
    "\n",
    "2. Comparison Operations\n",
    "    - Equal `==`\n",
    "    - Not equal `!=`\n",
    "    - Greater than `>`\n",
    "    - Less than `<`\n",
    "    - Greater or equal `>=`\n",
    "    - Less or equal `<=`\n",
    "\n",
    "To check if the number 4 is smaller than 5 and store the result into a variable named result_comp you would write:\\\n",
    "`result_comp = 4 < 5`\\\n",
    "The result is a boolean value.\n",
    "\n",
    "3. Logical Operations\n",
    "    - AND `and`\n",
    "    - OR `or`\n",
    "    - NOT `not`\n",
    "\n",
    "These operation are employed if you want to for example check if variable a is bigger than 5 and variable b is smaller than 5:\\\n",
    "`is_valid = (a > 5) and (b < 5)`\\\n",
    "Similar to the comparison operations the result is a boolean value.\n",
    "\n",
    "To control the order of the operations we use parentheses `()`. Operations inside brackets are calculated first."
   ]
  },
  {
   "cell_type": "code",
   "execution_count": 60,
   "id": "aa4cf4d1-1743-47de-b840-630ccd9e9754",
   "metadata": {},
   "outputs": [],
   "source": [
    "# Task: calculate 2² and store the result in a variable named two_squared.\n",
    "# Insert your code below:\n",
    "\n",
    "\n",
    "# Task: Compare if the floor division of 17 by 4 is equal to 4 and store the result in a varibale named comp_neq.\n",
    "# Insert your code below:\n",
    "\n",
    "# Task: Given following code what results would you expect for i \n",
    "# a = True; b = False; c = False\n",
    "# res_i = a or (b and c)\n",
    "# res_ii = (a or b) and c\n",
    "\n",
    "# Insert your answer by assigning True or False to the variables:\n",
    "res_i = \n",
    "res_ii ="
   ]
  },
  {
   "cell_type": "markdown",
   "id": "2af26bf7-7b4e-4863-a4a0-7e2e5c93c035",
   "metadata": {},
   "source": [
    "## Functions\n",
    "A function is a reusable block of code that performs a specific task. It allows you to organize your code into manageable sections, making it easier to understand, maintain, and reuse. Functions can take input (called parameters), perform operations, and return an output (called a return value). Functions help avoiding repetition and make code more modular. We define a function using the def keyword, followed by the function name, parentheses, and a colon. The code block inside the function is indented. As an intendation you can use a multiple of 2 spaces. Functions do not require to return a value, in this case the return statement can be omitted. \\\n",
    "Example:\n",
    "```python\n",
    "def add_one(number): # Function definition\n",
    "  number = number + 1 # Function body\n",
    "  return number  # Optional return statement\n",
    "\n",
    "add_one(5) # Function call\n",
    "```\n",
    "Benefits of Functions:\n",
    "1. Code Reusability: Define once, use multiple times.\n",
    "2. Modularity: Break your code into smaller, logical parts.\n",
    "3. Maintainability: Easier to read and update.\n",
    "4. Abstraction: Functions can hide complex logic behind simple names, making code easier to understand.\n",
    "\n",
    "A very common function to be used is the `print` function. It helps us to see the value of a variable or visualize some text in the terminal or cell. "
   ]
  },
  {
   "cell_type": "code",
   "execution_count": 63,
   "id": "f1a97c87-06ec-431e-80dc-71ac38317e22",
   "metadata": {},
   "outputs": [],
   "source": [
    "# Task: Write a function with the parameter named number, subtract 2 from the number and return the result\n",
    "# Insert your code below:\n"
   ]
  },
  {
   "cell_type": "markdown",
   "id": "e3a5000e-aa9e-4e31-81b1-d5c518b8d066",
   "metadata": {},
   "source": [
    "## Control Structures\n",
    "Control structures dictate the flow of execution within a program. They allow us to make decisions, repeat actions, or choose between different courses of action based on certain conditions. Simliar to functions, control structures are essential for writing dynamic, flexible, and efficient code. We differentiate between conditional statements, loops and branching structures.\n",
    "\n",
    "1. Conditional Statements:\\\n",
    "Conditional statements let the program choose a path of execution based on whether a condition is True or False. The most common conditional structure is the if statement.\n",
    "```python\n",
    "if condition:\n",
    "    # code to execute if the condition is true\n",
    "elif another_condition:\n",
    "    # code to execute if the second condition is true\n",
    "else:\n",
    "    # code to execute if none of the conditions are true\n",
    "```\n",
    "In python 3.10 the language also implemented the switch statement as follows:\n",
    "```python\n",
    "match variable:\n",
    "case condition:\n",
    "    # code to execute if the condition is true\n",
    "case _:\n",
    "    # code to execute if none of the conditions are true\n",
    "```\n",
    "2. Loops:\\\n",
    "Loops allow us to repeat actions multiple times without writing the same code repeatedly. For this we can use:\n",
    "a) The while-loop\n",
    "A `while` loop repeats a block of code as long as a specified condition is True.\n",
    "```python\n",
    "while condition:\n",
    "    # code to execute for each item\n",
    "```\n",
    "b) The for-loop\n",
    "A `for` loop is used to iterate over a sequence (such as a list, string, or range) and execute a block of code for each item.\n",
    "```python\n",
    "for item in sequence:\n",
    "    # code to execute for each item\n",
    "```\n",
    "\n",
    "3. Branching:\\\n",
    "Branching statements allow for fine control over loops and functions.\n",
    "a) break\n",
    "The break statement exits a loop prematurely when a certain condition is met.\n",
    "```python\n",
    "for i in sequence:\n",
    "    if condition:\n",
    "        break  # Exits the loop when condition becomes True\n",
    "    print(i)\n",
    "```\n",
    "b) continue\n",
    "The continue statement skips the current iteration of a loop and moves to the next one.\n",
    "```python\n",
    "for item in sequence:\n",
    "    if condition:\n",
    "        continue  # Skips code execution if condition is True\n",
    "    # code to execute for each item\n",
    "```\n",
    "c) return\n",
    "The return statement is used in functions to send a value back to the caller and exit the function.\n",
    "```python\n",
    "def square(x):\n",
    "    return x * x \n",
    "```"
   ]
  },
  {
   "cell_type": "code",
   "execution_count": null,
   "id": "4c5ce6a7-c8f0-4a5a-96ef-fcdf2662ed72",
   "metadata": {},
   "outputs": [],
   "source": []
  },
  {
   "cell_type": "markdown",
   "id": "41ed6ff4-929b-49b8-9204-d35b9a722919",
   "metadata": {},
   "source": [
    "## Input/Output"
   ]
  },
  {
   "cell_type": "code",
   "execution_count": null,
   "id": "8b6dc5a4-194e-4287-8dce-954d385b7fbf",
   "metadata": {},
   "outputs": [],
   "source": [
    "\n",
    "5. Lists - e.g. [1, 1, 1, 2]\n",
    "6. Sets - e.g. (1, 2, 3, 4)\n",
    "\n",
    "We learned that a variable has a unique name that identifies it, can hold a specific value and holds a type of data. \n",
    "Why are Data Types Important?\n",
    " However, sometimes you will need to do so:\n",
    "`age = int(21)`\n",
    "limits of data types"
   ]
  },
  {
   "cell_type": "code",
   "execution_count": null,
   "id": "4794286e-8e9a-4792-b421-9f0e4f83e1a8",
   "metadata": {},
   "outputs": [],
   "source": [
    "# Run this code to check if you did the exersice correctly\n",
    "if type(age)==int:\n",
    "    print(\"Good job!\")\n",
    "else:\n",
    "    print(\"Did you name the variable age and did you assign an integer value?\")    \n"
   ]
  }
 ],
 "metadata": {
  "kernelspec": {
   "display_name": "pyenv 3.11.9",
   "language": "python",
   "name": "3.11.9"
  },
  "language_info": {
   "codemirror_mode": {
    "name": "ipython",
    "version": 3
   },
   "file_extension": ".py",
   "mimetype": "text/x-python",
   "name": "python",
   "nbconvert_exporter": "python",
   "pygments_lexer": "ipython3",
   "version": "3.11.9"
  }
 },
 "nbformat": 4,
 "nbformat_minor": 5
}
